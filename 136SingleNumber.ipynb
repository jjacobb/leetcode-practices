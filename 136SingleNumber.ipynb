{
 "cells": [
  {
   "cell_type": "markdown",
   "metadata": {
    "collapsed": true
   },
   "source": [
    "# 136. Single Number\n",
    "[👉问题描述](https://leetcode.com/problems/single-number/)\n"
   ]
  },
  {
   "cell_type": "markdown",
   "metadata": {},
   "source": [
    "思路：\n",
    "- 碰到一种🐮🍺的思路：直接使用**XOR抑或运算**；\n",
    "\n",
    "```java\n",
    "class Solution1 {\n",
    "    public int singleNumber(int[] nums) {\n",
    "        int result = 0;\n",
    "        for(int i=0;i<nums.length;i++){\n",
    "            result ^= nums[i];\n",
    "        }\n",
    "        return result;\n",
    "    }\n",
    "}\n",
    "```"
   ]
  },
  {
   "cell_type": "code",
   "execution_count": null,
   "metadata": {},
   "outputs": [],
   "source": [
    "def singleNumber(self, nums):\n",
    "    return reduce(operator.xor, nums)"
   ]
  },
  {
   "cell_type": "markdown",
   "metadata": {},
   "source": [
    "注意：\n",
    "- reduce和map的区别：形式上是一样的，但一个是“平行”运算，一个是“累积”运算，具体区别看[👉廖雪峰博客](https://www.liaoxuefeng.com/wiki/001374738125095c955c1e6d8bb493182103fac9270762a000/00141861202544241651579c69d4399a9aa135afef28c44000)"
   ]
  }
 ],
 "metadata": {
  "kernelspec": {
   "display_name": "Python 2",
   "language": "python",
   "name": "python2"
  },
  "language_info": {
   "codemirror_mode": {
    "name": "ipython",
    "version": 2
   },
   "file_extension": ".py",
   "mimetype": "text/x-python",
   "name": "python",
   "nbconvert_exporter": "python",
   "pygments_lexer": "ipython2",
   "version": "2.7.6"
  }
 },
 "nbformat": 4,
 "nbformat_minor": 0
}
