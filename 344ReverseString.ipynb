{
 "cells": [
  {
   "cell_type": "markdown",
   "metadata": {
    "collapsed": true
   },
   "source": [
    "# 344. Reverse String"
   ]
  },
  {
   "cell_type": "markdown",
   "metadata": {},
   "source": [
    "Write a function that reverses a string. The input string is given as an array of characters char[].\n",
    "\n",
    "Do not allocate extra space for another array, you must do this by modifying the input array in-place with O(1) extra memory.\n",
    "\n",
    "You may assume all the characters consist of printable ascii characters.\n",
    "\n",
    "<br>\n",
    "[具体问题](https://leetcode.com/problems/reverse-string/)"
   ]
  },
  {
   "cell_type": "markdown",
   "metadata": {},
   "source": [
    "## 思路：\n",
    "1.建两个游标，分别从开头结尾往中间游走，同时索引游标进行交换；"
   ]
  },
  {
   "cell_type": "markdown",
   "metadata": {},
   "source": [
    "``` java\n",
    "class Solution1 {\n",
    "    public void reverseString(char[] s) {\n",
    "        int i = 0;\n",
    "        int j = s.length - 1;\t//数组用length，类对象用length()\n",
    "        while(i<j){\n",
    "            char temp = s[i];\n",
    "            s[i] = s[j];\n",
    "            s[j] = temp;\n",
    "            j--;\n",
    "        }\n",
    "        return ;\n",
    "    }\n",
    "}\n",
    "```"
   ]
  },
  {
   "cell_type": "code",
   "execution_count": 2,
   "metadata": {},
   "outputs": [],
   "source": [
    "class Solution2(object):\n",
    "    def reverseString(self, s):\n",
    "        i = 0\n",
    "        j = len(s) - 1\n",
    "        while i < j:\n",
    "            s[i], s[j] = s[j], s[i]\n",
    "            i+=1\n",
    "            j-=1\n",
    "        return "
   ]
  },
  {
   "cell_type": "code",
   "execution_count": 6,
   "metadata": {},
   "outputs": [],
   "source": [
    "class Solution3(object):\n",
    "    def reverseString(self, s):\n",
    "        s = s[::-1]\n",
    "        return "
   ]
  },
  {
   "cell_type": "markdown",
   "metadata": {},
   "source": [
    "注意：python中slice notation中，[::-1]的用法，前两个参数是起始位置和结束位置，最后一个参数是步长，缺省为1"
   ]
  },
  {
   "cell_type": "code",
   "execution_count": null,
   "metadata": {},
   "outputs": [],
   "source": [
    "class Solution4(object):\n",
    "    def reverseString(self, s):\n",
    "        l = len(s)\n",
    "        if l<2:\n",
    "            return s\n",
    "        return self.reverseString(s[l/2:])+self.reverseString(s[:l/2])"
   ]
  },
  {
   "cell_type": "markdown",
   "metadata": {},
   "source": [
    "注意： 递归用法"
   ]
  }
 ],
 "metadata": {
  "kernelspec": {
   "display_name": "Python 2",
   "language": "python",
   "name": "python2"
  },
  "language_info": {
   "codemirror_mode": {
    "name": "ipython",
    "version": 2
   },
   "file_extension": ".py",
   "mimetype": "text/x-python",
   "name": "python",
   "nbconvert_exporter": "python",
   "pygments_lexer": "ipython2",
   "version": "2.7.6"
  }
 },
 "nbformat": 4,
 "nbformat_minor": 0
}
