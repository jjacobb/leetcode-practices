{
 "cells": [
  {
   "cell_type": "markdown",
   "metadata": {
    "collapsed": true
   },
   "source": [
    "# 94. Binary Tree Inorder Traversal"
   ]
  },
  {
   "cell_type": "markdown",
   "metadata": {},
   "source": [
    "[👉问题](https://leetcode.com/problems/binary-tree-inorder-traversal/)"
   ]
  },
  {
   "cell_type": "markdown",
   "metadata": {},
   "source": [
    "第一思路是递归，但是发现这个函数返回的是数组，并且参数设置里没有传入数组，所以觉得不太可行；\n",
    "<br>\n",
    "第二思路是while循环；\n"
   ]
  },
  {
   "cell_type": "markdown",
   "metadata": {},
   "source": [
    "```java\n",
    "class Solution {\n",
    "    public List<Integer> inorderTraversal(TreeNode root) {\n",
    "        List<Integer> list = new ArrayList<Integer>();\n",
    "        Stack<TreeNode> stack = new Stack<TreeNode>();\n",
    "        TreeNode node = root;\n",
    "        while(node!=null || !stack.empty()){\n",
    "            while(node!=null){\n",
    "                stack.add(node);\n",
    "                node = node.left;\n",
    "            }\n",
    "            node = stack.pop();\n",
    "            list.add(node.val);\n",
    "            node = node.right;\n",
    "        }\n",
    "        return list;\n",
    "    }\n",
    "}\n",
    "\n",
    "```"
   ]
  },
  {
   "cell_type": "markdown",
   "metadata": {},
   "source": [
    "- 复习了一遍堆栈的数据结构，记得它的特点，先进后出；\n",
    "- 学习一遍堆栈的用法，包括add(),pop();\n",
    "- 复习了一遍数据结构中的先序，后序，中序；"
   ]
  }
 ],
 "metadata": {
  "kernelspec": {
   "display_name": "Python 2",
   "language": "python",
   "name": "python2"
  },
  "language_info": {
   "codemirror_mode": {
    "name": "ipython",
    "version": 2
   },
   "file_extension": ".py",
   "mimetype": "text/x-python",
   "name": "python",
   "nbconvert_exporter": "python",
   "pygments_lexer": "ipython2",
   "version": "2.7.6"
  }
 },
 "nbformat": 4,
 "nbformat_minor": 0
}
