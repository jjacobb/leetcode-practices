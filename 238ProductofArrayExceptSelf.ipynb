{
 "cells": [
  {
   "cell_type": "markdown",
   "metadata": {
    "collapsed": true
   },
   "source": [
    "# 238. Product of Array Except Self"
   ]
  },
  {
   "cell_type": "markdown",
   "metadata": {},
   "source": [
    "[👉问题描述](https://leetcode.com/problems/product-of-array-except-self/)"
   ]
  },
  {
   "cell_type": "markdown",
   "metadata": {},
   "source": [
    "```java\n",
    "class Solution {\n",
    "    public int[] productExceptSelf(int[] nums) {\n",
    "        int n = nums.length;\n",
    "        int[] res = new int[n];\n",
    "        //int[] fwd = new int[n];\n",
    "        int[] bwd = new int[n];\n",
    "        res[0]= 1;\n",
    "        //fwd[0] = 1;\n",
    "        bwd[n-1] = 1;\n",
    "        for(int i = 1; i<n; i++){\n",
    "            res[i] = res[i-1] * nums[i-1];\n",
    "        }\n",
    "        for(int i = n-2; i>=0; i--){\n",
    "            bwd[i] = bwd[i+1] * nums[i+1];\n",
    "            res[i] = res[i] * bwd[i];\n",
    "        }\n",
    "        return res;\n",
    "    }\n",
    "}\n",
    "```"
   ]
  },
  {
   "cell_type": "markdown",
   "metadata": {},
   "source": [
    "注意：\n",
    "设置两个游标，分别从前后开始遍历累乘，将结果放入数组，注意两个游标的起始位置都要延迟一步，才能满足题目要求（累乘结果不包括对应位置）"
   ]
  }
 ],
 "metadata": {
  "kernelspec": {
   "display_name": "Python 2",
   "language": "python",
   "name": "python2"
  },
  "language_info": {
   "codemirror_mode": {
    "name": "ipython",
    "version": 2
   },
   "file_extension": ".py",
   "mimetype": "text/x-python",
   "name": "python",
   "nbconvert_exporter": "python",
   "pygments_lexer": "ipython2",
   "version": "2.7.6"
  }
 },
 "nbformat": 4,
 "nbformat_minor": 0
}
