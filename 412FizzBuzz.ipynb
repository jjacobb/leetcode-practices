{
 "cells": [
  {
   "cell_type": "markdown",
   "metadata": {
    "collapsed": true
   },
   "source": [
    "# 412. Fizz Buzz"
   ]
  },
  {
   "cell_type": "markdown",
   "metadata": {},
   "source": [
    "[👉问题](https://leetcode.com/problems/fizz-buzz/)"
   ]
  },
  {
   "cell_type": "markdown",
   "metadata": {},
   "source": [
    "```java\n",
    "public class Solution {\n",
    "    public List<String> fizzBuzz(int n) {\n",
    "        List<String> list = new ArrayList<String>(n);\n",
    "        for(int i=0, fizz=0, buzz=0; i<n; i++){\n",
    "            fizz++;\n",
    "            buzz++;\n",
    "            if(fizz==3 && buzz==5){\n",
    "                list.add(\"FizzBuzz\");\n",
    "                fizz=0;\n",
    "                buzz=0;\n",
    "            }else if(fizz==3){\n",
    "                list.add(\"Fizz\");\n",
    "                fizz=0;\n",
    "            }else if(buzz==5){\n",
    "                list.add(\"Buzz\");\n",
    "                buzz=0;\n",
    "                list.add(String.valueOf(i));\n",
    "            }\n",
    "        return list;\n",
    "    }\n",
    "}\n",
    "```"
   ]
  },
  {
   "cell_type": "markdown",
   "metadata": {},
   "source": [
    "思路：遇到这种数学问题，尽量往最简单的计算方向简化。能大大提高计算效率。"
   ]
  }
 ],
 "metadata": {
  "kernelspec": {
   "display_name": "Python 2",
   "language": "python",
   "name": "python2"
  },
  "language_info": {
   "codemirror_mode": {
    "name": "ipython",
    "version": 2
   },
   "file_extension": ".py",
   "mimetype": "text/x-python",
   "name": "python",
   "nbconvert_exporter": "python",
   "pygments_lexer": "ipython2",
   "version": "2.7.6"
  }
 },
 "nbformat": 4,
 "nbformat_minor": 0
}
