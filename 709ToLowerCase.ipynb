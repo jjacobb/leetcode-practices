{
 "cells": [
  {
   "cell_type": "markdown",
   "metadata": {
    "collapsed": true
   },
   "source": [
    "# 709. To Lower Case"
   ]
  },
  {
   "cell_type": "markdown",
   "metadata": {},
   "source": [
    "Implement function ToLowerCase() that has a string parameter str, and returns the same string in lowercase."
   ]
  },
  {
   "cell_type": "markdown",
   "metadata": {},
   "source": [
    "``` java\n",
    "//方法1\n",
    "public Stirng toLowerCase(String str){\n",
    "    char[] a = str.toCharArray();\n",
    "    for(int i = 0; i < a.length; i++)\n",
    "        if ('A' <= a[i] && a[i] <= 'Z')\n",
    "            a[i] = (char)(a[i]-'A' + 'a')\n",
    "        return new String(a);\n",
    "}\n",
    "```"
   ]
  },
  {
   "cell_type": "markdown",
   "metadata": {},
   "source": [
    "- 注意java中toCharArray方法的用法：返回一个字符数组，该字符数组存放了当前字符串的所有字符"
   ]
  },
  {
   "cell_type": "code",
   "execution_count": 3,
   "metadata": {},
   "outputs": [],
   "source": [
    "class Solution2:\n",
    "    def toLowerCase(self, str):\n",
    "        return \"\".join(chr(ord(c)+32) if 65 <= ord(c) <= 90 else c for c in str)"
   ]
  },
  {
   "cell_type": "markdown",
   "metadata": {},
   "source": [
    "- 注意ord()的用法\n",
    "- 注意python中char的表示是chr()"
   ]
  }
 ],
 "metadata": {
  "kernelspec": {
   "display_name": "Python 2",
   "language": "python",
   "name": "python2"
  },
  "language_info": {
   "codemirror_mode": {
    "name": "ipython",
    "version": 2
   },
   "file_extension": ".py",
   "mimetype": "text/x-python",
   "name": "python",
   "nbconvert_exporter": "python",
   "pygments_lexer": "ipython2",
   "version": "2.7.6"
  }
 },
 "nbformat": 4,
 "nbformat_minor": 0
}
